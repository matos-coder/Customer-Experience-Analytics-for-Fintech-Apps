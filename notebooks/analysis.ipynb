{
 "cells": [
  {
   "cell_type": "code",
   "execution_count": 1,
   "id": "c7cb72b3",
   "metadata": {},
   "outputs": [
    {
     "name": "stderr",
     "output_type": "stream",
     "text": [
      "c:\\Users\\hp\\Desktop\\matos\\tenx 10academy\\week 2\\Customer-Experience-Analytics-for-Fintech-Apps\\.venv\\Lib\\site-packages\\tqdm\\auto.py:21: TqdmWarning: IProgress not found. Please update jupyter and ipywidgets. See https://ipywidgets.readthedocs.io/en/stable/user_install.html\n",
      "  from .autonotebook import tqdm as notebook_tqdm\n",
      "Device set to use cpu\n"
     ]
    },
    {
     "name": "stdout",
     "output_type": "stream",
     "text": [
      "Loaded 1200 reviews.\n"
     ]
    },
    {
     "name": "stderr",
     "output_type": "stream",
     "text": [
      "2025-06-08 22:41:50,310 - INFO - Results saved to data/processed/review_analysis.csv\n"
     ]
    },
    {
     "name": "stdout",
     "output_type": "stream",
     "text": [
      "Analysis complete. Results saved.\n"
     ]
    }
   ],
   "source": [
    "# Task 2: Sentiment and Thematic Analysis\n",
    "\n",
    "# Step 1: Load Required Libraries and Data\n",
    "# Install missing dependencies if needed\n",
    "\n",
    "import pandas as pd\n",
    "import os\n",
    "import sys\n",
    "sys.path.append('../scripts')\n",
    "try:\n",
    "    from analysis import preprocess_text, analyze_sentiment, extract_keywords, cluster_keywords, save_analysis_results\n",
    "except ModuleNotFoundError as e:\n",
    "    print(\"Could not import 'analysis'. Please ensure that 'analysis.py' exists in the '../scripts' directory and is error-free.\")\n",
    "    raise e\n",
    "\n",
    "# Define paths\n",
    "INPUT_PATH = \"data/raw/all_banks_reviews.csv\"\n",
    "OUTPUT_PATH = \"data/processed/review_analysis.csv\"\n",
    "\n",
    "# Load data\n",
    "try:\n",
    "    reviews_df = pd.read_csv(INPUT_PATH)\n",
    "    print(f\"Loaded {len(reviews_df)} reviews.\")\n",
    "except Exception as e:\n",
    "    print(f\"Error loading data: {e}\")\n",
    "\n",
    "# Step 2: Preprocess Review Text\n",
    "reviews_df[\"preprocessed_text\"] = reviews_df[\"review\"].apply(preprocess_text)\n",
    "\n",
    "# Step 3: Sentiment Analysis\n",
    "sentiment_results = analyze_sentiment(reviews_df[\"review\"])\n",
    "reviews_df = pd.concat([reviews_df, sentiment_results], axis=1)\n",
    "\n",
    "# Step 4: Thematic Analysis\n",
    "keywords = extract_keywords(reviews_df[\"preprocessed_text\"])\n",
    "themes = cluster_keywords(keywords)\n",
    "\n",
    "# Step 5: Save Results\n",
    "save_analysis_results(reviews_df, OUTPUT_PATH)\n",
    "print(\"Analysis complete. Results saved.\")\n"
   ]
  }
 ],
 "metadata": {
  "kernelspec": {
   "display_name": ".venv",
   "language": "python",
   "name": "python3"
  },
  "language_info": {
   "codemirror_mode": {
    "name": "ipython",
    "version": 3
   },
   "file_extension": ".py",
   "mimetype": "text/x-python",
   "name": "python",
   "nbconvert_exporter": "python",
   "pygments_lexer": "ipython3",
   "version": "3.13.1"
  }
 },
 "nbformat": 4,
 "nbformat_minor": 5
}
