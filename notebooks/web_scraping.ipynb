{
 "cells": [
  {
   "cell_type": "code",
   "execution_count": null,
   "id": "08643b11",
   "metadata": {},
   "outputs": [
    {
     "name": "stdout",
     "output_type": "stream",
     "text": [
      "Starting scraping for Commercial Bank of Ethiopia...\n",
      "Scraping reviews for Commercial Bank of Ethiopia...\n"
     ]
    }
   ],
   "source": [
    "# Task 1: Web Scraping Google Play Store Reviews\n",
    "\n",
    "# Step 1: Import Necessary Libraries and Custom Functions\n",
    "# --------------------------------------------------------\n",
    "# Import the functions for web scraping from the custom module.\n",
    "# The 'scraping' module contains functions for scraping and saving reviews. \n",
    "import sys\n",
    "sys.path.append('../src')  # Adjust the path as needed to locate the module\n",
    "from web_scraping import scrape_reviews, save_reviews  # Import functions\n",
    "import pandas as pd  # For combining data\n",
    "import os  # For directory management\n",
    "\n",
    "# Step 2: Define Constants for Scraping\n",
    "# -------------------------------------\n",
    "# Use the BANK_APPS variable already defined in the notebook.\n",
    "# Dictionary of bank names and their corresponding app IDs on the Google Play Store.\n",
    "BANK_APPS = {\n",
    "    \"Commercial Bank of Ethiopia\": \"com.combanketh.mobilebanking\",      # CBE Mobile Banking App\n",
    "    \"Bank of Abyssinia\": \"com.boa.boaMobileBanking\",   # BoA Mobile app\n",
    "    \"Dashen Bank\": \"com.dashen.dashensuperapp\"         # Dashen Bank Super App\n",
    "}\n",
    "\n",
    "\n",
    "\n",
    "# Specify the directory to save the scraped reviews.\n",
    "OUTPUT_DIR = \"data/raw\"\n",
    "os.makedirs(OUTPUT_DIR, exist_ok=True)  # Create the directory if it doesn't exist\n",
    "\n",
    "# Step 3: Scrape Reviews for All Banks\n",
    "# ------------------------------------\n",
    "# Initialize an empty list to store all reviews from all banks.\n",
    "all_reviews = []\n",
    "\n",
    "for bank_name, app_id in BANK_APPS.items():\n",
    "    # Scrape reviews for the current bank\n",
    "    print(f\"Starting scraping for {bank_name}...\")\n",
    "    bank_reviews = scrape_reviews(app_id, bank_name)\n",
    "    \n",
    "    # Save reviews to a CSV file if scraping is successful\n",
    "    if not bank_reviews.empty:\n",
    "        save_reviews(bank_reviews, bank_name)  # Save individual reviews\n",
    "        all_reviews.append(bank_reviews)  # Append to the combined list\n",
    "    else:\n",
    "        print(f\"No reviews scraped for {bank_name}.\")\n",
    "\n",
    "# Step 4: Combine All Reviews into a Single Dataset\n",
    "# -------------------------------------------------\n",
    "if all_reviews:\n",
    "    # Combine all reviews into a single DataFrame\n",
    "    combined_df = pd.concat(all_reviews, ignore_index=True)\n",
    "    \n",
    "    # Define the path for the combined dataset\n",
    "    combined_path = os.path.join(OUTPUT_DIR, \"all_banks_reviews.csv\")\n",
    "    \n",
    "    # Save the combined dataset\n",
    "    combined_df.to_csv(combined_path, index=False)\n",
    "    print(f\"Combined dataset saved successfully at {combined_path}.\\n\")\n",
    "\n",
    "    # Optional: Display a preview of the combined dataset\n",
    "    print(\"\\nCombined Dataset Preview:\")\n",
    "    print(combined_df.head())\n",
    "else:\n",
    "    print(\"No reviews were scraped; no combined dataset to create.\")\n",
    "\n",
    "\n",
    "# Step 5: Verify the Combined Dataset\n",
    "# -----------------------------------\n",
    "# Load and display the first few rows of the combined dataset to verify the results.\n",
    "if os.path.exists(combined_path):\n",
    "    print(\"\\nCombined Dataset Preview:\")\n",
    "    combined_df = pd.read_csv(combined_path)\n",
    "    print(combined_df.head())\n"
   ]
  }
 ],
 "metadata": {
  "kernelspec": {
   "display_name": ".venv",
   "language": "python",
   "name": "python3"
  },
  "language_info": {
   "codemirror_mode": {
    "name": "ipython",
    "version": 3
   },
   "file_extension": ".py",
   "mimetype": "text/x-python",
   "name": "python",
   "nbconvert_exporter": "python",
   "pygments_lexer": "ipython3",
   "version": "3.13.1"
  }
 },
 "nbformat": 4,
 "nbformat_minor": 5
}
