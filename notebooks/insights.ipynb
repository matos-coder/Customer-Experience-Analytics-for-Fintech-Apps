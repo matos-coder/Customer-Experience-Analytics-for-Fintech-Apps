{
 "cells": [
  {
   "cell_type": "code",
   "execution_count": null,
   "id": "87709cdf",
   "metadata": {},
   "outputs": [],
   "source": [
    "# Task 4: Insights and Recommendations\n",
    "\n",
    "# Step 1: Load Required Libraries and Data\n",
    "import os\n",
    "from insight import load_cleaned_data, calculate_insights, generate_wordcloud, visualize_sentiment_distribution, save_insights\n",
    "\n",
    "# Define paths\n",
    "INPUT_PATH = \"data/processed/review_analysis.csv\"\n",
    "INSIGHT_PATH = \"data/insights\"\n",
    "os.makedirs(INSIGHT_PATH, exist_ok=True)\n",
    "\n",
    "# Load data\n",
    "data = load_cleaned_data(INPUT_PATH)\n",
    "\n",
    "# Step 2: Derive Insights\n",
    "insights = calculate_insights(data)\n",
    "\n",
    "# Save insights\n",
    "save_insights(insights, os.path.join(INSIGHT_PATH, \"insights.txt\"))\n",
    "\n",
    "# Step 3: Visualize Insights\n",
    "# Generate Word Cloud\n",
    "generate_wordcloud(data, \"review\", os.path.join(INSIGHT_PATH, \"wordcloud.png\"))\n",
    "\n",
    "# Visualize Sentiment Distribution\n",
    "visualize_sentiment_distribution(data, os.path.join(INSIGHT_PATH, \"sentiment_distribution.png\"))\n",
    "\n",
    "# Optional: Display Insights\n",
    "print(\"\\nInsights:\")\n",
    "for bank, details in insights.items():\n",
    "    print(f\"Bank: {bank}\")\n",
    "    print(f\"  Drivers: {', '.join(details['Drivers'])}\")\n",
    "    print(f\"  Pain Points: {', '.join(details['Pain Points'])}\")\n",
    "    print()\n"
   ]
  }
 ],
 "metadata": {
  "language_info": {
   "name": "python"
  }
 },
 "nbformat": 4,
 "nbformat_minor": 5
}
