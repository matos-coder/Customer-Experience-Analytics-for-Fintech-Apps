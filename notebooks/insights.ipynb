{
 "cells": [
  {
   "cell_type": "code",
   "execution_count": 2,
   "id": "87709cdf",
   "metadata": {},
   "outputs": [
    {
     "name": "stderr",
     "output_type": "stream",
     "text": [
      "2025-06-10 23:11:44,534 - INFO - Loaded data with 1200 records from data/processed/review_analysis.csv.\n",
      "2025-06-10 23:11:44,545 - ERROR - Error calculating insights: 'sentiment_label'\n",
      "2025-06-10 23:11:44,547 - INFO - Insights saved to data/insights\\insights.txt.\n",
      "2025-06-10 23:11:44,900 - INFO - Word cloud saved to data/insights\\wordcloud.png.\n",
      "2025-06-10 23:11:44,906 - ERROR - Error visualizing sentiment distribution: Could not interpret value `sentiment_label` for `hue`. An entry with this name does not appear in `data`.\n"
     ]
    },
    {
     "name": "stdout",
     "output_type": "stream",
     "text": [
      "\n",
      "Insights:\n"
     ]
    },
    {
     "data": {
      "text/plain": [
       "<Figure size 1000x600 with 0 Axes>"
      ]
     },
     "metadata": {},
     "output_type": "display_data"
    }
   ],
   "source": [
    "# Task 4: Insights and Recommendations\n",
    "\n",
    "# Step 1: Load Required Libraries and Data\n",
    "import os\n",
    "import sys\n",
    "sys.path.append('../scripts')\n",
    "from insights import load_cleaned_data, calculate_insights, generate_wordcloud, visualize_sentiment_distribution, save_insights\n",
    "\n",
    "# Define paths\n",
    "INPUT_PATH = \"data/processed/review_analysis.csv\"\n",
    "INSIGHT_PATH = \"data/insights\"\n",
    "os.makedirs(INSIGHT_PATH, exist_ok=True)\n",
    "\n",
    "# Load data\n",
    "data = load_cleaned_data(INPUT_PATH)\n",
    "\n",
    "# Step 2: Derive Insights\n",
    "insights = calculate_insights(data)\n",
    "\n",
    "# Save insights\n",
    "save_insights(insights, os.path.join(INSIGHT_PATH, \"insights.txt\"))\n",
    "\n",
    "# Step 3: Visualize Insights\n",
    "# Generate Word Cloud\n",
    "generate_wordcloud(data, \"review\", os.path.join(INSIGHT_PATH, \"wordcloud.png\"))\n",
    "\n",
    "# Visualize Sentiment Distribution\n",
    "visualize_sentiment_distribution(data, os.path.join(INSIGHT_PATH, \"sentiment_distribution.png\"))\n",
    "\n",
    "# Optional: Display Insights\n",
    "print(\"\\nInsights:\")\n",
    "for bank, details in insights.items():\n",
    "    print(f\"Bank: {bank}\")\n",
    "    print(f\"  Drivers: {', '.join(details['Drivers'])}\")\n",
    "    print(f\"  Pain Points: {', '.join(details['Pain Points'])}\")\n",
    "    print()\n"
   ]
  }
 ],
 "metadata": {
  "kernelspec": {
   "display_name": ".venv",
   "language": "python",
   "name": "python3"
  },
  "language_info": {
   "codemirror_mode": {
    "name": "ipython",
    "version": 3
   },
   "file_extension": ".py",
   "mimetype": "text/x-python",
   "name": "python",
   "nbconvert_exporter": "python",
   "pygments_lexer": "ipython3",
   "version": "3.13.1"
  }
 },
 "nbformat": 4,
 "nbformat_minor": 5
}
